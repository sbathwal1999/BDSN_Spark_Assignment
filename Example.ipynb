{
  "cells": [
    {
      "cell_type": "markdown",
      "metadata": {
        "id": "view-in-github",
        "colab_type": "text"
      },
      "source": [
        "<a href=\"https://colab.research.google.com/github/sbathwal1999/BDSN_Spark_Assignment/blob/main/Example.ipynb\" target=\"_parent\"><img src=\"https://colab.research.google.com/assets/colab-badge.svg\" alt=\"Open In Colab\"/></a>"
      ]
    },
    {
      "cell_type": "markdown",
      "source": [
        "# Install ExploriPy"
      ],
      "metadata": {
        "id": "YMmwaqfzDZBa"
      }
    },
    {
      "cell_type": "code",
      "execution_count": null,
      "metadata": {
        "id": "W1fKR6fA3MAw"
      },
      "outputs": [],
      "source": [
        "!pip install git+https://github.com/sbathwal1999/ExploriPy"
      ]
    },
    {
      "cell_type": "markdown",
      "source": [
        "# Import ExploriPy"
      ],
      "metadata": {
        "id": "9Brco9X-Dc0J"
      }
    },
    {
      "cell_type": "code",
      "execution_count": null,
      "metadata": {
        "id": "W57kNGkQh61r"
      },
      "outputs": [],
      "source": [
        "import pandas as pd\n",
        "from exploripy.exploripy import ExploriPy"
      ]
    },
    {
      "cell_type": "markdown",
      "source": [
        "# Learn to use Exploripy"
      ],
      "metadata": {
        "id": "ymb7k8hgDgRj"
      }
    },
    {
      "cell_type": "code",
      "execution_count": null,
      "metadata": {
        "id": "acOiwPhv3qBd"
      },
      "outputs": [],
      "source": [
        "!wget https://raw.githubusercontent.com/sbathwal1999/ExploriPy/main/dataset/BigMartSales_Train.csv"
      ]
    },
    {
      "cell_type": "code",
      "execution_count": 4,
      "metadata": {
        "id": "It4s9G9M3p91"
      },
      "outputs": [],
      "source": [
        "df = pd.read_csv('BigMartSales_Train.csv')"
      ]
    },
    {
      "cell_type": "markdown",
      "source": [
        "## Define Object\n",
        "Arguments:\n",
        "1. <b>DataFrame:</b> Pandas DataFrame\n",
        "2. <b>CategoricalFeatures (Optional):</b> List of categorical features for which analysis to be performed. If not passed will treat Object and Category type features as categorical features.\n",
        "3. <b>NumericalFeatures (Optional):</b> List of continuous features for which analysis to be performed. If not passed will treat Float and Int type features as numerical features.\n",
        "4. <b>OtherFeatures (Optional):</b> List of features which will be excluded from analysis.\n",
        "5. <b>TimeFeature (Optional):</b> Date-Time feature for which timeseries analyis needs to be performed. \n",
        "6. <b>AggregationType (Optional):</b> Aggregation for timeseries analysis. Only sum and average supported. Default aggregation type is sum."
      ],
      "metadata": {
        "id": "LgtyDosBDtL5"
      }
    },
    {
      "cell_type": "code",
      "execution_count": 5,
      "metadata": {
        "id": "8FfcZLOQ3p6c"
      },
      "outputs": [],
      "source": [
        "eda = ExploriPy(DataFrame = df)"
      ]
    },
    {
      "cell_type": "markdown",
      "source": [
        "# Exploratory Data Analysis\n",
        "No Arguments"
      ],
      "metadata": {
        "id": "AAmSZT1uGgeA"
      }
    },
    {
      "cell_type": "code",
      "source": [
        "eda.EDA()"
      ],
      "metadata": {
        "id": "stAOGGWMD7xI"
      },
      "execution_count": null,
      "outputs": []
    },
    {
      "cell_type": "markdown",
      "source": [
        "# Target Specific Analysis\n",
        "Arguments:\n",
        "1. <b>TargetFeature (Optional):</b>Target Column\n",
        "\n",
        "Automatically detect target feature type and perform analysis accordingly."
      ],
      "metadata": {
        "id": "dt4XpRxLGqbm"
      }
    },
    {
      "cell_type": "markdown",
      "source": [
        "### Continuous Target Specific Analysis"
      ],
      "metadata": {
        "id": "22nOJP3wHKj6"
      }
    },
    {
      "cell_type": "code",
      "source": [
        "eda.TargetSpecificAnalysis('Item_Outlet_Sales')"
      ],
      "metadata": {
        "id": "zn773cJkCvhu"
      },
      "execution_count": null,
      "outputs": []
    },
    {
      "cell_type": "markdown",
      "source": [
        "### Categorical Target Specific Analysis"
      ],
      "metadata": {
        "id": "Gp7fPe13HWXZ"
      }
    },
    {
      "cell_type": "code",
      "source": [
        "eda.TargetSpecificAnalysis('Item_Type')"
      ],
      "metadata": {
        "id": "M986f8SZCXrO"
      },
      "execution_count": null,
      "outputs": []
    },
    {
      "cell_type": "markdown",
      "source": [
        "## Create Report\n",
        "Arguments:\n",
        "1. <b>outdir (Optional):</b> Output Directory where you want to save report. Default is Current Working Directory."
      ],
      "metadata": {
        "id": "TAR6AsJ-JkMH"
      }
    },
    {
      "cell_type": "code",
      "source": [
        "eda.create_report(outdir='/content')"
      ],
      "metadata": {
        "colab": {
          "base_uri": "https://localhost:8080/",
          "height": 36
        },
        "id": "hPUthPKnJ0Qy",
        "outputId": "d44d6b9d-9887-4aab-c562-ab1aee7fce71"
      },
      "execution_count": 19,
      "outputs": [
        {
          "output_type": "execute_result",
          "data": {
            "text/plain": [
              "'Report saved at /content/ExploriPy_Report.html'"
            ],
            "application/vnd.google.colaboratory.intrinsic+json": {
              "type": "string"
            }
          },
          "metadata": {},
          "execution_count": 19
        }
      ]
    },
    {
      "cell_type": "markdown",
      "source": [
        "## Time Series Analysis"
      ],
      "metadata": {
        "id": "_NH3R51RH0iT"
      }
    },
    {
      "cell_type": "code",
      "source": [
        "!wget https://raw.githubusercontent.com/sbathwal1999/ExploriPy/main/dataset/acer.csv\n",
        "df = pd.read_csv('acer.csv')"
      ],
      "metadata": {
        "id": "hFfxegXTCZTc"
      },
      "execution_count": null,
      "outputs": []
    },
    {
      "cell_type": "markdown",
      "source": [
        "### Default Aggregation Type - Sum"
      ],
      "metadata": {
        "id": "-FQmfdM9IZP4"
      }
    },
    {
      "cell_type": "code",
      "source": [
        "eda = ExploriPy(df,  TimeFeature='Date')\n",
        "eda.TargetSpecificAnalysis('Close')"
      ],
      "metadata": {
        "id": "rNFWzTUTCa5l"
      },
      "execution_count": null,
      "outputs": []
    },
    {
      "cell_type": "code",
      "source": [
        "!wget https://raw.githubusercontent.com/sbathwal1999/ExploriPy/main/dataset/DailyDelhiClimateTrain.csv\n",
        "df = pd.read_csv('DailyDelhiClimateTrain.csv')"
      ],
      "metadata": {
        "id": "yUlTq_sSCc0f"
      },
      "execution_count": null,
      "outputs": []
    },
    {
      "cell_type": "markdown",
      "source": [
        "### Aggregation Type Mean"
      ],
      "metadata": {
        "id": "jxCFXJ15IjLg"
      }
    },
    {
      "cell_type": "code",
      "source": [
        "eda = ExploriPy(df,TimeFeature='date', AggregationType = 'mean')\n",
        "eda.TargetSpecificAnalysis( 'meanpressure')"
      ],
      "metadata": {
        "id": "-jhmrpndCeSB"
      },
      "execution_count": null,
      "outputs": []
    },
    {
      "cell_type": "markdown",
      "source": [
        "## WordCloud \n",
        "Automatically detects features suitable for wordcloud."
      ],
      "metadata": {
        "id": "YV5xG1scI4vz"
      }
    },
    {
      "cell_type": "code",
      "source": [
        "!wget https://raw.githubusercontent.com/sbathwal1999/ExploriPy/main/dataset/reviews_dataset.csv\n",
        "df = pd.read_csv('reviews_dataset.csv', sep=\",\",encoding='mac_roman',warn_bad_lines=True, error_bad_lines=False)"
      ],
      "metadata": {
        "id": "lgyAYcC-ChRF"
      },
      "execution_count": null,
      "outputs": []
    },
    {
      "cell_type": "code",
      "source": [
        "eda = ExploriPy(df)\n",
        "eda.TargetSpecificAnalysis('sentiment')"
      ],
      "metadata": {
        "id": "Iqfagsf0CjUb"
      },
      "execution_count": null,
      "outputs": []
    }
  ],
  "metadata": {
    "colab": {
      "name": "Example.ipynb",
      "provenance": [],
      "collapsed_sections": [],
      "authorship_tag": "ABX9TyPV72UHvmDLExzZgjcm9Ioi",
      "include_colab_link": true
    },
    "kernelspec": {
      "display_name": "Python 3",
      "name": "python3"
    },
    "language_info": {
      "name": "python"
    }
  },
  "nbformat": 4,
  "nbformat_minor": 0
}